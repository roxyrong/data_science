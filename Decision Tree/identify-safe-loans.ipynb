{
 "cells": [
  {
   "cell_type": "code",
   "execution_count": 14,
   "metadata": {},
   "outputs": [
    {
     "name": "stderr",
     "output_type": "stream",
     "text": [
      "/Users/xinyunrong/miniconda3/envs/roxyrong/lib/python3.6/site-packages/IPython/core/interactiveshell.py:2785: DtypeWarning: Columns (19,47) have mixed types. Specify dtype option on import or set low_memory=False.\n",
      "  interactivity=interactivity, compiler=compiler, result=result)\n"
     ]
    },
    {
     "data": {
      "text/plain": [
       "'simple_tree.pdf'"
      ]
     },
     "execution_count": 14,
     "metadata": {},
     "output_type": "execute_result"
    }
   ],
   "source": [
    "import pandas as pd\n",
    "import json\n",
    "from sklearn.tree import DecisionTreeClassifier\n",
    "from sklearn import tree\n",
    "import graphviz\n",
    "\n",
    "pd.set_option(\"display.max_columns\", 20)\n",
    "\n",
    "#load data\n",
    "loan_data = pd.read_csv('lending-club-data.csv')\n",
    "loan_data['safe_loans'] = loan_data['bad_loans'].apply(lambda x: +1 if x == 0 else -1)\n",
    "del loan_data['bad_loans']\n",
    "\n",
    "features = ['grade',                     # grade of the loan\n",
    "           #'sub_grade',                 # sub-grade of the loan\n",
    "            'short_emp',                 # one year or less of employment\n",
    "            'emp_length_num',            # number of years of employment\n",
    "            'home_ownership',            # home_ownership status: own, mortgage or rent\n",
    "            'dti',                       # debt to income ratio\n",
    "            'purpose',                   # the purpose of the loan\n",
    "            'term',                      # the term of the loan\n",
    "            'last_delinq_none',          # has borrower had a delinquincy\n",
    "            'last_major_derog_none',     # has borrower had 90 day or worse rating\n",
    "            'revol_util',                # percent of available credit being used\n",
    "            'total_rec_late_fee',        # total late fees received to day\n",
    "            ]\n",
    "target = 'safe_loans'                    # prediction target (y) (+1 means safe, -1 is risky)\n",
    "\n",
    "loan_data = loan_data[features + [target]]\n",
    "\n",
    "# deal with categorical data\n",
    "obj_df = loan_data.select_dtypes(include=['object']).copy()\n",
    "grade = {'A': 0, 'B': 1, 'C': 2, 'D': 3, 'E': 4, 'F': 5, 'G': 6}\n",
    "obj_df['grade'] = obj_df['grade'].replace(grade)\n",
    "obj_df['home_ownership'] = obj_df['home_ownership'].astype('category').cat.codes\n",
    "obj_df['purpose'] = obj_df['purpose'].astype('category').cat.codes\n",
    "obj_df['term'] = obj_df['term'].astype('category').cat.codes\n",
    "\n",
    "categorical_col = obj_df.columns\n",
    "loan_data[categorical_col] = obj_df\n",
    "\n",
    "\n",
    "with open('module-5-assignment-1-train-idx.json') as json_file:\n",
    "    train_idx = json.load(json_file)\n",
    "with open('module-5-assignment-1-validation-idx.json') as json_file:\n",
    "    validation_idx = json.load(json_file)\n",
    "\n",
    "train_data = loan_data.iloc[train_idx]\n",
    "validation_data = loan_data.iloc[validation_idx]\n",
    "\n",
    "# train model\n",
    "X = train_data[features].values\n",
    "Y = train_data[target].values\n",
    "clf = DecisionTreeClassifier(max_depth=2)\n",
    "clf.fit(X, Y)\n",
    "\n",
    "# calc accuracy on validation set\n",
    "X_valid = validation_data[features].values\n",
    "Y_valid = validation_data[target].values\n",
    "Y_hat = clf.predict(X_valid)\n",
    "accuracy = sum(1 for a, b in zip(Y_valid, Y_hat) if a == b) / len(Y_valid)\n",
    "\n",
    "# plot decision tree\n",
    "dot_data = tree.export_graphviz(clf, out_file=None,\n",
    "                                feature_names=features, class_names=target,\n",
    "                                filled=True, rounded=True, special_characters=True)\n",
    "graph = graphviz.Source(dot_data)\n",
    "graph.render('simple_tree', view=True)"
   ]
  }
 ],
 "metadata": {
  "kernelspec": {
   "display_name": "Python 3",
   "language": "python",
   "name": "python3"
  },
  "language_info": {
   "codemirror_mode": {
    "name": "ipython",
    "version": 3
   },
   "file_extension": ".py",
   "mimetype": "text/x-python",
   "name": "python",
   "nbconvert_exporter": "python",
   "pygments_lexer": "ipython3",
   "version": "3.6.5"
  }
 },
 "nbformat": 4,
 "nbformat_minor": 2
}
